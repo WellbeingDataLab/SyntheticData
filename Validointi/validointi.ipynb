{
 "cells": [
  {
   "cell_type": "markdown",
   "id": "c9e71149",
   "metadata": {},
   "source": [
    "# Validointi"
   ]
  },
  {
   "cell_type": "markdown",
   "id": "6cccf06d",
   "metadata": {},
   "source": [
    "Otetaan tarvittavat paketit käyttöön:"
   ]
  },
  {
   "cell_type": "code",
   "execution_count": 2,
   "id": "66bbf7a1",
   "metadata": {},
   "outputs": [
    {
     "name": "stderr",
     "output_type": "stream",
     "text": [
      "2025-08-29 16:21:27.770342: E external/local_xla/xla/stream_executor/cuda/cuda_fft.cc:485] Unable to register cuFFT factory: Attempting to register factory for plugin cuFFT when one has already been registered\n",
      "2025-08-29 16:21:27.790028: E external/local_xla/xla/stream_executor/cuda/cuda_dnn.cc:8454] Unable to register cuDNN factory: Attempting to register factory for plugin cuDNN when one has already been registered\n",
      "2025-08-29 16:21:27.796068: E external/local_xla/xla/stream_executor/cuda/cuda_blas.cc:1452] Unable to register cuBLAS factory: Attempting to register factory for plugin cuBLAS when one has already been registered\n",
      "2025-08-29 16:21:27.810985: I tensorflow/core/platform/cpu_feature_guard.cc:210] This TensorFlow binary is optimized to use available CPU instructions in performance-critical operations.\n",
      "To enable the following instructions: AVX2 FMA, in other operations, rebuild TensorFlow with the appropriate compiler flags.\n",
      "2025-08-29 16:21:29.205909: W tensorflow/compiler/tf2tensorrt/utils/py_utils.cc:38] TF-TRT Warning: Could not find TensorRT\n"
     ]
    }
   ],
   "source": [
    "import numpy as np\n",
    "import sdv\n",
    "import scipy\n",
    "import pandas as pd\n",
    "import sdmetrics\n",
    "from sdv.metadata import SingleTableMetadata\n",
    "from sdmetrics.reports import utils\n",
    "from sdv.single_table import TVAESynthesizer\n",
    "from sdv.single_table import CTGANSynthesizer\n",
    "#from sdv.evaluation.single_table import evaluate_quality\n",
    "\n",
    "import matplotlib.pyplot as plt\n",
    "from sklearn.impute import KNNImputer\n",
    "\n",
    "import hyperimpute\n",
    "from hyperimpute.plugins.imputers import Imputers, ImputerPlugin\n",
    "imputers = Imputers()\n",
    "\n",
    "import matplotlib.pyplot as plt\n",
    "import numpy as np\n",
    "import pandas as pd\n",
    "import tensorflow as tf\n",
    "\n",
    "from scipy import stats\n",
    "\n",
    "from sklearn.metrics import accuracy_score, precision_score, recall_score\n",
    "from sklearn.model_selection import train_test_split\n",
    "from tensorflow.keras import layers, losses\n",
    "from keras import metrics\n",
    "\n",
    "import tensorflow\n",
    "\n",
    "from tensorflow.keras.models import Model\n",
    "\n",
    "from sklearn.model_selection import KFold\n",
    "from sklearn.model_selection import StratifiedKFold\n"
   ]
  },
  {
   "cell_type": "markdown",
   "id": "5df50731",
   "metadata": {},
   "source": [
    "Ladataan testattavat tiedostot.\n",
    "\n",
    "Käytetyt validointimenetelmät on pyritty valitsemaan niin että ne olisivat mahdollisimman riippumattomia vertailtavista dataseteistä, ts. esimerkiksi kahden aidon datasetin vertailu on myös mahdollista mikäli ne sisältävät samat muuttujat."
   ]
  },
  {
   "cell_type": "code",
   "execution_count": 3,
   "id": "1b79f94f",
   "metadata": {},
   "outputs": [],
   "source": [
    "synth_tvae_data_list = []\n",
    "synth_ctgan_data_list = [] \n",
    "synth_diffusion_data_list = [] \n",
    "synth_gcopula_data_list = [] \n",
    "synth_bayes_data_list = [] \n",
    "synth_nflow_data_list = []\n",
    "\n",
    "training_data_list = []\n",
    "test_data_list = []\n",
    "\n",
    "for i in range(5):\n",
    "    # Load the dataset\n",
    "    tvae = pd.read_csv(f'../Generointi/data/tvae/synteettinen_tvae_data_{i}.csv', index_col=0)\n",
    "    ctgan = pd.read_csv(f'../Generointi/data/ctgan/synteettinen_ctgan_data_{i}.csv', index_col=0)\n",
    "    diffusion = pd.read_csv(f'../Generointi/data/diffusion/synteettinen_diffusion_data_{i}.csv', index_col=0)\n",
    "    gcopula = pd.read_csv(f'../Generointi/data/gcopula/synteettinen_gcopula_data_{i}.csv', index_col=0)\n",
    "    nflow = pd.read_csv(f'../Generointi/data/nflow/synteettinen_nflow_data_{i}.csv', index_col=0)\n",
    "    bayes = pd.read_csv(f'../Generointi/data/bayes/synteettinen_bayes_data_{i}.csv', index_col=0)\n",
    "    \n",
    "    train_set = pd.read_csv(f'../Generointi/data/train/training_data_{i}.csv', index_col=0)\n",
    "    test_set = pd.read_csv(f'../Generointi/data/test/testing_data_{i}.csv', index_col=0)\n",
    "\n",
    "    # Append the data to the respective lists\n",
    "    synth_tvae_data_list.append(tvae)\n",
    "    synth_ctgan_data_list.append(ctgan)\n",
    "    synth_diffusion_data_list.append(diffusion)\n",
    "    synth_gcopula_data_list.append(gcopula)\n",
    "    synth_bayes_data_list.append(bayes)\n",
    "    synth_nflow_data_list.append(nflow)\n",
    "\n",
    "    training_data_list.append(train_set)\n",
    "    test_data_list.append(test_set)"
   ]
  },
  {
   "cell_type": "code",
   "execution_count": 4,
   "id": "beaf2165",
   "metadata": {},
   "outputs": [],
   "source": [
    "metadata = SingleTableMetadata()\n",
    "metadata.detect_from_dataframe(training_data_list[0])"
   ]
  },
  {
   "cell_type": "markdown",
   "id": "71ce7d48",
   "metadata": {},
   "source": [
    "## SDMetrics Quality Report\n",
    "SDMetricsin laaturaportti antaa työkaluja synteettisen datan tilastollisen laadun varmistamiseen.\n",
    "Se koostuu kahdesta osiosta:\n",
    "1. Column Shapes Score, joka on vastaavuus aidon ja synteettisen datan välillä kun tarkastellaan muuttujia yksitellen\n",
    "2. Column Pair Trends, muuttujaparien korrelaatioiden vastaavuus aidon ja synteettisen datan välillä\n",
    "\n",
    "Molemmat ilmoitetaan prosenttiarvona 0-100%, jossa 100% on täydellinen vastaavuus.\n",
    "100% ei kuitenkaan ole käytännössä mahdollinen eikä edes tavoite, sillä se tarkoittaisi täydellistä kopiota\n",
    "alkuperäisestä datasta. Yli 90% on melko hyvä, mutta alle sen ei luultavasti ole riittävä."
   ]
  },
  {
   "cell_type": "code",
   "execution_count": 5,
   "id": "318df27e",
   "metadata": {},
   "outputs": [],
   "source": [
    "from sdmetrics.reports.single_table import QualityReport\n",
    "\n",
    "def evaluate_quality(real_data, synthetic_data):\n",
    "    \"\"\"\n",
    "    Evaluate the quality of synthetic data against real data.\n",
    "    \"\"\"\n",
    "    metadata = SingleTableMetadata()\n",
    "    metadata.detect_from_dataframe(real_data)\n",
    "\n",
    "    # Evaluate the quality of the synthetic data\n",
    "    qr = QualityReport()\n",
    "    qr.generate(real_data, synthetic_data, metadata=metadata.to_dict())\n",
    "    \n",
    "    return qr\n"
   ]
  },
  {
   "cell_type": "markdown",
   "id": "641d14bf",
   "metadata": {},
   "source": [
    "### Referenssitaso testidatalla\n",
    "\n",
    "Aito data jaettiin generointivaiheessa opetus- ja testiaineistoihin.\n",
    "Testiaineistoa voidaan käyttää arvioimaan hyväksyttävä pistetaso, sillä jos opetus- ja testiaineisto oletetaan rippumattomiksi, voidaan\n",
    "näiden välistä pisteytystä pitää viitteenä siitä mitä synteettisen ja aidon datan välisen pisteytyksen tulisi olla.\n"
   ]
  },
  {
   "cell_type": "code",
   "execution_count": 6,
   "id": "08da4094",
   "metadata": {},
   "outputs": [
    {
     "name": "stdout",
     "output_type": "stream",
     "text": [
      "Generating report ...\n",
      "\n",
      "(1/2) Evaluating Column Shapes: |██████████| 14/14 [00:00<00:00, 1522.59it/s]|\n",
      "Column Shapes Score: 91.44%\n",
      "\n",
      "(2/2) Evaluating Column Pair Trends: |          | 0/91 [00:00<?, ?it/s]|"
     ]
    },
    {
     "name": "stdout",
     "output_type": "stream",
     "text": [
      "(2/2) Evaluating Column Pair Trends: |██████████| 91/91 [00:00<00:00, 166.09it/s]|\n",
      "Column Pair Trends Score: 80.68%\n",
      "\n",
      "Overall Score (Average): 86.06%\n",
      "\n",
      "Generating report ...\n",
      "\n",
      "(1/2) Evaluating Column Shapes: |██████████| 14/14 [00:00<00:00, 2545.64it/s]|\n",
      "Column Shapes Score: 92.1%\n",
      "\n",
      "(2/2) Evaluating Column Pair Trends: |██████████| 91/91 [00:00<00:00, 134.44it/s]|\n",
      "Column Pair Trends Score: 21.55%\n",
      "\n",
      "Overall Score (Average): 56.83%\n",
      "\n",
      "Generating report ...\n",
      "\n",
      "(1/2) Evaluating Column Shapes: |██████████| 14/14 [00:00<00:00, 2089.84it/s]|\n",
      "Column Shapes Score: 92.71%\n",
      "\n",
      "(2/2) Evaluating Column Pair Trends: |██████████| 91/91 [00:00<00:00, 162.41it/s]|\n",
      "Column Pair Trends Score: 81.42%\n",
      "\n",
      "Overall Score (Average): 87.07%\n",
      "\n",
      "Generating report ...\n",
      "\n",
      "(1/2) Evaluating Column Shapes: |██████████| 14/14 [00:00<00:00, 2285.19it/s]|\n",
      "Column Shapes Score: 93.01%\n",
      "\n",
      "(2/2) Evaluating Column Pair Trends: |██████████| 91/91 [00:00<00:00, 192.38it/s]|\n",
      "Column Pair Trends Score: 83.15%\n",
      "\n",
      "Overall Score (Average): 88.08%\n",
      "\n",
      "Generating report ...\n",
      "\n",
      "(1/2) Evaluating Column Shapes: |██████████| 14/14 [00:00<00:00, 2551.39it/s]|\n",
      "Column Shapes Score: 90.83%\n",
      "\n",
      "(2/2) Evaluating Column Pair Trends: |██████████| 91/91 [00:00<00:00, 191.68it/s]|\n",
      "Column Pair Trends Score: 77.36%\n",
      "\n",
      "Overall Score (Average): 84.09%\n",
      "\n"
     ]
    }
   ],
   "source": [
    "\n",
    "for i, test_fold in enumerate(test_data_list):\n",
    "\n",
    "    qr = evaluate_quality(training_data_list[i], test_fold)"
   ]
  },
  {
   "cell_type": "markdown",
   "id": "f411380c",
   "metadata": {},
   "source": [
    "Huomataan että Column Shapes Score, eli yksittäisten muuttujien välinen vastaavuus on satunnaisjaolla 90-93%.\n",
    "Muuttujaparien korrelaatioiden vastaavuus Column Pair Trends Score taas vaihtelee ja on yhdessä satunnaisjaossa jopa 21.55%!\n",
    "\n",
    "Tarkastellaan tätä hieman tarkemmin:"
   ]
  },
  {
   "cell_type": "code",
   "execution_count": 7,
   "id": "aef583a4",
   "metadata": {},
   "outputs": [
    {
     "name": "stdout",
     "output_type": "stream",
     "text": [
      "Generating report ...\n",
      "\n",
      "(1/2) Evaluating Column Shapes: |██████████| 14/14 [00:00<00:00, 2183.88it/s]|\n",
      "Column Shapes Score: 92.1%\n",
      "\n",
      "(2/2) Evaluating Column Pair Trends: |██████████| 91/91 [00:00<00:00, 135.35it/s]|\n",
      "Column Pair Trends Score: 21.55%\n",
      "\n",
      "Overall Score (Average): 56.83%\n",
      "\n"
     ]
    }
   ],
   "source": [
    "bad_quality_report = evaluate_quality(training_data_list[1], test_data_list[1])"
   ]
  },
  {
   "cell_type": "code",
   "execution_count": 8,
   "id": "0e22763a",
   "metadata": {},
   "outputs": [
    {
     "data": {
      "application/vnd.microsoft.datawrangler.viewer.v0+json": {
       "columns": [
        {
         "name": "index",
         "rawType": "int64",
         "type": "integer"
        },
        {
         "name": "Column 1",
         "rawType": "object",
         "type": "string"
        },
        {
         "name": "Column 2",
         "rawType": "object",
         "type": "string"
        },
        {
         "name": "Metric",
         "rawType": "object",
         "type": "string"
        },
        {
         "name": "Score",
         "rawType": "float64",
         "type": "float"
        },
        {
         "name": "Real Correlation",
         "rawType": "float64",
         "type": "float"
        },
        {
         "name": "Synthetic Correlation",
         "rawType": "float64",
         "type": "float"
        }
       ],
       "ref": "4971ef82-22ca-4661-bbde-a3d072decae0",
       "rows": [
        [
         "0",
         "age",
         "sex",
         "ContingencySimilarity",
         "0.0",
         null,
         null
        ],
        [
         "1",
         "age",
         "cp",
         "ContingencySimilarity",
         "0.0",
         null,
         null
        ],
        [
         "2",
         "age",
         "trestbps",
         "CorrelationSimilarity",
         "0.9631926963439512",
         "0.2686391353677233",
         "0.3422537426798208"
        ],
        [
         "3",
         "age",
         "chol",
         "CorrelationSimilarity",
         "0.9562179690704772",
         "0.1894916565099295",
         "0.2770557183689751"
        ],
        [
         "4",
         "age",
         "fbs",
         "ContingencySimilarity",
         "0.0",
         null,
         null
        ],
        [
         "5",
         "age",
         "restecg",
         "ContingencySimilarity",
         "0.0",
         null,
         null
        ],
        [
         "6",
         "age",
         "thalach",
         "CorrelationSimilarity",
         "0.8985974257777256",
         "-0.3538739997218102",
         "-0.5566791481663589"
        ],
        [
         "7",
         "age",
         "exang",
         "ContingencySimilarity",
         "0.0",
         null,
         null
        ],
        [
         "8",
         "age",
         "oldpeak",
         "CorrelationSimilarity",
         "0.8791386429082182",
         "0.1581394146319428",
         "0.39986212881550637"
        ],
        [
         "9",
         "age",
         "slope",
         "ContingencySimilarity",
         "0.0",
         null,
         null
        ],
        [
         "10",
         "age",
         "ca",
         "CorrelationSimilarity",
         "0.9862489024016021",
         "0.3580318018579212",
         "0.3855339970547169"
        ],
        [
         "11",
         "age",
         "thal",
         "CorrelationSimilarity",
         "0.9083351615825105",
         "0.09263654834244385",
         "0.2759662251774228"
        ],
        [
         "12",
         "age",
         "num",
         "ContingencySimilarity",
         "0.0",
         null,
         null
        ],
        [
         "13",
         "sex",
         "cp",
         "ContingencySimilarity",
         "0.0",
         null,
         null
        ],
        [
         "14",
         "sex",
         "trestbps",
         "ContingencySimilarity",
         "0.0",
         null,
         null
        ],
        [
         "15",
         "sex",
         "chol",
         "ContingencySimilarity",
         "0.0",
         null,
         null
        ],
        [
         "16",
         "sex",
         "fbs",
         "ContingencySimilarity",
         "0.0",
         null,
         null
        ],
        [
         "17",
         "sex",
         "restecg",
         "ContingencySimilarity",
         "0.0",
         null,
         null
        ],
        [
         "18",
         "sex",
         "thalach",
         "ContingencySimilarity",
         "0.0",
         null,
         null
        ],
        [
         "19",
         "sex",
         "exang",
         "ContingencySimilarity",
         "0.0",
         null,
         null
        ],
        [
         "20",
         "sex",
         "oldpeak",
         "ContingencySimilarity",
         "0.0",
         null,
         null
        ],
        [
         "21",
         "sex",
         "slope",
         "ContingencySimilarity",
         "0.0",
         null,
         null
        ],
        [
         "22",
         "sex",
         "ca",
         "ContingencySimilarity",
         "0.0",
         null,
         null
        ],
        [
         "23",
         "sex",
         "thal",
         "ContingencySimilarity",
         "0.0",
         null,
         null
        ],
        [
         "24",
         "sex",
         "num",
         "ContingencySimilarity",
         "0.0",
         null,
         null
        ],
        [
         "25",
         "cp",
         "trestbps",
         "ContingencySimilarity",
         "0.0",
         null,
         null
        ],
        [
         "26",
         "cp",
         "chol",
         "ContingencySimilarity",
         "0.0",
         null,
         null
        ],
        [
         "27",
         "cp",
         "fbs",
         "ContingencySimilarity",
         "0.0",
         null,
         null
        ],
        [
         "28",
         "cp",
         "restecg",
         "ContingencySimilarity",
         "0.0",
         null,
         null
        ],
        [
         "29",
         "cp",
         "thalach",
         "ContingencySimilarity",
         "0.0",
         null,
         null
        ],
        [
         "30",
         "cp",
         "exang",
         "ContingencySimilarity",
         "0.0",
         null,
         null
        ],
        [
         "31",
         "cp",
         "oldpeak",
         "ContingencySimilarity",
         "0.0",
         null,
         null
        ],
        [
         "32",
         "cp",
         "slope",
         "ContingencySimilarity",
         "0.0",
         null,
         null
        ],
        [
         "33",
         "cp",
         "ca",
         "ContingencySimilarity",
         "0.0",
         null,
         null
        ],
        [
         "34",
         "cp",
         "thal",
         "ContingencySimilarity",
         "0.0",
         null,
         null
        ],
        [
         "35",
         "cp",
         "num",
         "ContingencySimilarity",
         "0.0",
         null,
         null
        ],
        [
         "36",
         "trestbps",
         "chol",
         "CorrelationSimilarity",
         "0.9681224476410534",
         "0.11593636970958357",
         "0.1796914744274768"
        ],
        [
         "37",
         "trestbps",
         "fbs",
         "ContingencySimilarity",
         "0.0",
         null,
         null
        ],
        [
         "38",
         "trestbps",
         "restecg",
         "ContingencySimilarity",
         "0.0",
         null,
         null
        ],
        [
         "39",
         "trestbps",
         "thalach",
         "CorrelationSimilarity",
         "0.8987286956595061",
         "-0.0022916814646935096",
         "-0.2048342901456814"
        ],
        [
         "40",
         "trestbps",
         "exang",
         "ContingencySimilarity",
         "0.0",
         null,
         null
        ],
        [
         "41",
         "trestbps",
         "oldpeak",
         "CorrelationSimilarity",
         "0.9542402806885133",
         "0.17253538017852943",
         "0.2640548188015029"
        ],
        [
         "42",
         "trestbps",
         "slope",
         "ContingencySimilarity",
         "0.0",
         null,
         null
        ],
        [
         "43",
         "trestbps",
         "ca",
         "CorrelationSimilarity",
         "0.8846090459909991",
         "0.05536366383869267",
         "0.2861455718566944"
        ],
        [
         "44",
         "trestbps",
         "thal",
         "CorrelationSimilarity",
         "0.9405722598040662",
         "0.1558201073743616",
         "0.03696462698249406"
        ],
        [
         "45",
         "trestbps",
         "num",
         "ContingencySimilarity",
         "0.0",
         null,
         null
        ],
        [
         "46",
         "chol",
         "fbs",
         "ContingencySimilarity",
         "0.0",
         null,
         null
        ],
        [
         "47",
         "chol",
         "restecg",
         "ContingencySimilarity",
         "0.0",
         null,
         null
        ],
        [
         "48",
         "chol",
         "thalach",
         "CorrelationSimilarity",
         "0.9332941874218081",
         "0.02806758716259669",
         "-0.10534403799378703"
        ],
        [
         "49",
         "chol",
         "exang",
         "ContingencySimilarity",
         "0.0",
         null,
         null
        ]
       ],
       "shape": {
        "columns": 6,
        "rows": 91
       }
      },
      "text/html": [
       "<div>\n",
       "<style scoped>\n",
       "    .dataframe tbody tr th:only-of-type {\n",
       "        vertical-align: middle;\n",
       "    }\n",
       "\n",
       "    .dataframe tbody tr th {\n",
       "        vertical-align: top;\n",
       "    }\n",
       "\n",
       "    .dataframe thead th {\n",
       "        text-align: right;\n",
       "    }\n",
       "</style>\n",
       "<table border=\"1\" class=\"dataframe\">\n",
       "  <thead>\n",
       "    <tr style=\"text-align: right;\">\n",
       "      <th></th>\n",
       "      <th>Column 1</th>\n",
       "      <th>Column 2</th>\n",
       "      <th>Metric</th>\n",
       "      <th>Score</th>\n",
       "      <th>Real Correlation</th>\n",
       "      <th>Synthetic Correlation</th>\n",
       "    </tr>\n",
       "  </thead>\n",
       "  <tbody>\n",
       "    <tr>\n",
       "      <th>0</th>\n",
       "      <td>age</td>\n",
       "      <td>sex</td>\n",
       "      <td>ContingencySimilarity</td>\n",
       "      <td>0.000000</td>\n",
       "      <td>NaN</td>\n",
       "      <td>NaN</td>\n",
       "    </tr>\n",
       "    <tr>\n",
       "      <th>1</th>\n",
       "      <td>age</td>\n",
       "      <td>cp</td>\n",
       "      <td>ContingencySimilarity</td>\n",
       "      <td>0.000000</td>\n",
       "      <td>NaN</td>\n",
       "      <td>NaN</td>\n",
       "    </tr>\n",
       "    <tr>\n",
       "      <th>2</th>\n",
       "      <td>age</td>\n",
       "      <td>trestbps</td>\n",
       "      <td>CorrelationSimilarity</td>\n",
       "      <td>0.963193</td>\n",
       "      <td>0.268639</td>\n",
       "      <td>0.342254</td>\n",
       "    </tr>\n",
       "    <tr>\n",
       "      <th>3</th>\n",
       "      <td>age</td>\n",
       "      <td>chol</td>\n",
       "      <td>CorrelationSimilarity</td>\n",
       "      <td>0.956218</td>\n",
       "      <td>0.189492</td>\n",
       "      <td>0.277056</td>\n",
       "    </tr>\n",
       "    <tr>\n",
       "      <th>4</th>\n",
       "      <td>age</td>\n",
       "      <td>fbs</td>\n",
       "      <td>ContingencySimilarity</td>\n",
       "      <td>0.000000</td>\n",
       "      <td>NaN</td>\n",
       "      <td>NaN</td>\n",
       "    </tr>\n",
       "    <tr>\n",
       "      <th>...</th>\n",
       "      <td>...</td>\n",
       "      <td>...</td>\n",
       "      <td>...</td>\n",
       "      <td>...</td>\n",
       "      <td>...</td>\n",
       "      <td>...</td>\n",
       "    </tr>\n",
       "    <tr>\n",
       "      <th>86</th>\n",
       "      <td>slope</td>\n",
       "      <td>thal</td>\n",
       "      <td>ContingencySimilarity</td>\n",
       "      <td>0.000000</td>\n",
       "      <td>NaN</td>\n",
       "      <td>NaN</td>\n",
       "    </tr>\n",
       "    <tr>\n",
       "      <th>87</th>\n",
       "      <td>slope</td>\n",
       "      <td>num</td>\n",
       "      <td>ContingencySimilarity</td>\n",
       "      <td>0.000000</td>\n",
       "      <td>NaN</td>\n",
       "      <td>NaN</td>\n",
       "    </tr>\n",
       "    <tr>\n",
       "      <th>88</th>\n",
       "      <td>ca</td>\n",
       "      <td>thal</td>\n",
       "      <td>CorrelationSimilarity</td>\n",
       "      <td>0.971469</td>\n",
       "      <td>0.245879</td>\n",
       "      <td>0.302942</td>\n",
       "    </tr>\n",
       "    <tr>\n",
       "      <th>89</th>\n",
       "      <td>ca</td>\n",
       "      <td>num</td>\n",
       "      <td>ContingencySimilarity</td>\n",
       "      <td>0.000000</td>\n",
       "      <td>NaN</td>\n",
       "      <td>NaN</td>\n",
       "    </tr>\n",
       "    <tr>\n",
       "      <th>90</th>\n",
       "      <td>thal</td>\n",
       "      <td>num</td>\n",
       "      <td>ContingencySimilarity</td>\n",
       "      <td>0.000000</td>\n",
       "      <td>NaN</td>\n",
       "      <td>NaN</td>\n",
       "    </tr>\n",
       "  </tbody>\n",
       "</table>\n",
       "<p>91 rows × 6 columns</p>\n",
       "</div>"
      ],
      "text/plain": [
       "   Column 1  Column 2                 Metric     Score  Real Correlation  \\\n",
       "0       age       sex  ContingencySimilarity  0.000000               NaN   \n",
       "1       age        cp  ContingencySimilarity  0.000000               NaN   \n",
       "2       age  trestbps  CorrelationSimilarity  0.963193          0.268639   \n",
       "3       age      chol  CorrelationSimilarity  0.956218          0.189492   \n",
       "4       age       fbs  ContingencySimilarity  0.000000               NaN   \n",
       "..      ...       ...                    ...       ...               ...   \n",
       "86    slope      thal  ContingencySimilarity  0.000000               NaN   \n",
       "87    slope       num  ContingencySimilarity  0.000000               NaN   \n",
       "88       ca      thal  CorrelationSimilarity  0.971469          0.245879   \n",
       "89       ca       num  ContingencySimilarity  0.000000               NaN   \n",
       "90     thal       num  ContingencySimilarity  0.000000               NaN   \n",
       "\n",
       "    Synthetic Correlation  \n",
       "0                     NaN  \n",
       "1                     NaN  \n",
       "2                0.342254  \n",
       "3                0.277056  \n",
       "4                     NaN  \n",
       "..                    ...  \n",
       "86                    NaN  \n",
       "87                    NaN  \n",
       "88               0.302942  \n",
       "89                    NaN  \n",
       "90                    NaN  \n",
       "\n",
       "[91 rows x 6 columns]"
      ]
     },
     "execution_count": 8,
     "metadata": {},
     "output_type": "execute_result"
    }
   ],
   "source": [
    "bad_quality_report.get_details(property_name='Column Pair Trends')"
   ]
  },
  {
   "cell_type": "markdown",
   "id": "b15a8d29",
   "metadata": {},
   "source": [
    "Jostain syystä suuri osa pisteytetään 0%, joka laskee huomattavasti keskiarvoa.\n",
    "Verrokkina onnistunut pisteytys:"
   ]
  },
  {
   "cell_type": "code",
   "execution_count": 9,
   "id": "f9beac50",
   "metadata": {},
   "outputs": [
    {
     "name": "stdout",
     "output_type": "stream",
     "text": [
      "Generating report ...\n",
      "\n",
      "(1/2) Evaluating Column Shapes: |██████████| 14/14 [00:00<00:00, 2095.80it/s]|\n",
      "Column Shapes Score: 91.44%\n",
      "\n",
      "(2/2) Evaluating Column Pair Trends: |██████████| 91/91 [00:00<00:00, 186.33it/s]|\n",
      "Column Pair Trends Score: 80.68%\n",
      "\n",
      "Overall Score (Average): 86.06%\n",
      "\n"
     ]
    }
   ],
   "source": [
    "normal_quality_report = evaluate_quality(training_data_list[0], test_data_list[0])"
   ]
  },
  {
   "cell_type": "code",
   "execution_count": 10,
   "id": "06263cc1",
   "metadata": {},
   "outputs": [
    {
     "data": {
      "application/vnd.microsoft.datawrangler.viewer.v0+json": {
       "columns": [
        {
         "name": "index",
         "rawType": "int64",
         "type": "integer"
        },
        {
         "name": "Column 1",
         "rawType": "object",
         "type": "string"
        },
        {
         "name": "Column 2",
         "rawType": "object",
         "type": "string"
        },
        {
         "name": "Metric",
         "rawType": "object",
         "type": "string"
        },
        {
         "name": "Score",
         "rawType": "float64",
         "type": "float"
        },
        {
         "name": "Real Correlation",
         "rawType": "float64",
         "type": "float"
        },
        {
         "name": "Synthetic Correlation",
         "rawType": "float64",
         "type": "float"
        }
       ],
       "ref": "d9251fa9-2eac-401a-b81a-2f696493184a",
       "rows": [
        [
         "0",
         "age",
         "sex",
         "ContingencySimilarity",
         "0.6749762904755453",
         null,
         null
        ],
        [
         "1",
         "age",
         "cp",
         "ContingencySimilarity",
         "0.7077631757214469",
         null,
         null
        ],
        [
         "2",
         "age",
         "trestbps",
         "CorrelationSimilarity",
         "0.9655794640606712",
         "0.2748227046929118",
         "0.3436637765715695"
        ],
        [
         "3",
         "age",
         "chol",
         "CorrelationSimilarity",
         "0.9639294859279535",
         "0.22206418240065404",
         "0.149923154256561"
        ],
        [
         "4",
         "age",
         "fbs",
         "ContingencySimilarity",
         "0.7489500067741499",
         null,
         null
        ],
        [
         "5",
         "age",
         "restecg",
         "ContingencySimilarity",
         "0.7613467009890259",
         null,
         null
        ],
        [
         "6",
         "age",
         "thalach",
         "CorrelationSimilarity",
         "0.9966382522870894",
         "-0.39907296724333935",
         "-0.392349471817518"
        ],
        [
         "7",
         "age",
         "exang",
         "ContingencySimilarity",
         "0.7687982658176399",
         null,
         null
        ],
        [
         "8",
         "age",
         "oldpeak",
         "CorrelationSimilarity",
         "0.993223489695037",
         "0.2070031515118728",
         "0.1934501309019468"
        ],
        [
         "9",
         "age",
         "slope",
         "ContingencySimilarity",
         "0.7658853813846362",
         null,
         null
        ],
        [
         "10",
         "age",
         "ca",
         "CorrelationSimilarity",
         "0.962853994079913",
         "0.3520241530196164",
         "0.4263161648597903"
        ],
        [
         "11",
         "age",
         "thal",
         "CorrelationSimilarity",
         "0.9682840686122199",
         "0.1406542520034086",
         "0.07722238922784838"
        ],
        [
         "12",
         "age",
         "num",
         "ContingencySimilarity",
         "0.5847446145508739",
         null,
         null
        ],
        [
         "13",
         "sex",
         "cp",
         "ContingencySimilarity",
         "0.8542880368513752",
         null,
         null
        ],
        [
         "14",
         "sex",
         "trestbps",
         "ContingencySimilarity",
         "0.6552635144289392",
         null,
         null
        ],
        [
         "15",
         "sex",
         "chol",
         "ContingencySimilarity",
         "0.6008670911800569",
         null,
         null
        ],
        [
         "16",
         "sex",
         "fbs",
         "ContingencySimilarity",
         "0.8117463758298333",
         null,
         null
        ],
        [
         "17",
         "sex",
         "restecg",
         "ContingencySimilarity",
         "0.861875084676873",
         null,
         null
        ],
        [
         "18",
         "sex",
         "thalach",
         "ContingencySimilarity",
         "0.7004470938897168",
         null,
         null
        ],
        [
         "19",
         "sex",
         "exang",
         "ContingencySimilarity",
         "0.8660073160818318",
         null,
         null
        ],
        [
         "20",
         "sex",
         "oldpeak",
         "ContingencySimilarity",
         "0.6900149031296572",
         null,
         null
        ],
        [
         "21",
         "sex",
         "slope",
         "ContingencySimilarity",
         "0.7974529196585829",
         null,
         null
        ],
        [
         "22",
         "sex",
         "ca",
         "ContingencySimilarity",
         "0.861875084676873",
         null,
         null
        ],
        [
         "23",
         "sex",
         "thal",
         "ContingencySimilarity",
         "0.853204172876304",
         null,
         null
        ],
        [
         "24",
         "sex",
         "num",
         "ContingencySimilarity",
         "0.8509009619292779",
         null,
         null
        ],
        [
         "25",
         "cp",
         "trestbps",
         "ContingencySimilarity",
         "0.6636634602357404",
         null,
         null
        ],
        [
         "26",
         "cp",
         "chol",
         "ContingencySimilarity",
         "0.592060696382604",
         null,
         null
        ],
        [
         "27",
         "cp",
         "fbs",
         "ContingencySimilarity",
         "0.8249559680260128",
         null,
         null
        ],
        [
         "28",
         "cp",
         "restecg",
         "ContingencySimilarity",
         "0.7746917761820892",
         null,
         null
        ],
        [
         "29",
         "cp",
         "thalach",
         "ContingencySimilarity",
         "0.6876439506841892",
         null,
         null
        ],
        [
         "30",
         "cp",
         "exang",
         "ContingencySimilarity",
         "0.8522557918981167",
         null,
         null
        ],
        [
         "31",
         "cp",
         "oldpeak",
         "ContingencySimilarity",
         "0.6337894594228424",
         null,
         null
        ],
        [
         "32",
         "cp",
         "slope",
         "ContingencySimilarity",
         "0.7580273675653706",
         null,
         null
        ],
        [
         "33",
         "cp",
         "ca",
         "ContingencySimilarity",
         "0.835862349275166",
         null,
         null
        ],
        [
         "34",
         "cp",
         "thal",
         "ContingencySimilarity",
         "0.847039696518087",
         null,
         null
        ],
        [
         "35",
         "cp",
         "num",
         "ContingencySimilarity",
         "0.8265140224901775",
         null,
         null
        ],
        [
         "36",
         "trestbps",
         "chol",
         "CorrelationSimilarity",
         "0.997613868054267",
         "0.12925882355851082",
         "0.13403108744997694"
        ],
        [
         "37",
         "trestbps",
         "fbs",
         "ContingencySimilarity",
         "0.6885923316623764",
         null,
         null
        ],
        [
         "38",
         "trestbps",
         "restecg",
         "ContingencySimilarity",
         "0.7121663731201735",
         null,
         null
        ],
        [
         "39",
         "trestbps",
         "thalach",
         "CorrelationSimilarity",
         "0.9680822648746005",
         "-0.03693122448481453",
         "-0.1007666947356135"
        ],
        [
         "40",
         "trestbps",
         "exang",
         "ContingencySimilarity",
         "0.716298604525132",
         null,
         null
        ],
        [
         "41",
         "trestbps",
         "oldpeak",
         "CorrelationSimilarity",
         "0.9120689779934582",
         "0.2161715151952418",
         "0.04030947118215813"
        ],
        [
         "42",
         "trestbps",
         "slope",
         "ContingencySimilarity",
         "0.6837826852729982",
         null,
         null
        ],
        [
         "43",
         "trestbps",
         "ca",
         "CorrelationSimilarity",
         "0.9266388403888921",
         "0.07351357666564853",
         "0.22023589588786427"
        ],
        [
         "44",
         "trestbps",
         "thal",
         "CorrelationSimilarity",
         "0.9782424326437494",
         "0.14183973787383186",
         "0.09832460316133075"
        ],
        [
         "45",
         "trestbps",
         "num",
         "ContingencySimilarity",
         "0.6543151334507519",
         null,
         null
        ],
        [
         "46",
         "chol",
         "fbs",
         "ContingencySimilarity",
         "0.6420539222327598",
         null,
         null
        ],
        [
         "47",
         "chol",
         "restecg",
         "ContingencySimilarity",
         "0.5715350223546944",
         null,
         null
        ],
        [
         "48",
         "chol",
         "thalach",
         "CorrelationSimilarity",
         "0.9516066638165965",
         "-0.025325035422247746",
         "0.0714616369445591"
        ],
        [
         "49",
         "chol",
         "exang",
         "ContingencySimilarity",
         "0.6179379487874271",
         null,
         null
        ]
       ],
       "shape": {
        "columns": 6,
        "rows": 91
       }
      },
      "text/html": [
       "<div>\n",
       "<style scoped>\n",
       "    .dataframe tbody tr th:only-of-type {\n",
       "        vertical-align: middle;\n",
       "    }\n",
       "\n",
       "    .dataframe tbody tr th {\n",
       "        vertical-align: top;\n",
       "    }\n",
       "\n",
       "    .dataframe thead th {\n",
       "        text-align: right;\n",
       "    }\n",
       "</style>\n",
       "<table border=\"1\" class=\"dataframe\">\n",
       "  <thead>\n",
       "    <tr style=\"text-align: right;\">\n",
       "      <th></th>\n",
       "      <th>Column 1</th>\n",
       "      <th>Column 2</th>\n",
       "      <th>Metric</th>\n",
       "      <th>Score</th>\n",
       "      <th>Real Correlation</th>\n",
       "      <th>Synthetic Correlation</th>\n",
       "    </tr>\n",
       "  </thead>\n",
       "  <tbody>\n",
       "    <tr>\n",
       "      <th>0</th>\n",
       "      <td>age</td>\n",
       "      <td>sex</td>\n",
       "      <td>ContingencySimilarity</td>\n",
       "      <td>0.674976</td>\n",
       "      <td>NaN</td>\n",
       "      <td>NaN</td>\n",
       "    </tr>\n",
       "    <tr>\n",
       "      <th>1</th>\n",
       "      <td>age</td>\n",
       "      <td>cp</td>\n",
       "      <td>ContingencySimilarity</td>\n",
       "      <td>0.707763</td>\n",
       "      <td>NaN</td>\n",
       "      <td>NaN</td>\n",
       "    </tr>\n",
       "    <tr>\n",
       "      <th>2</th>\n",
       "      <td>age</td>\n",
       "      <td>trestbps</td>\n",
       "      <td>CorrelationSimilarity</td>\n",
       "      <td>0.965579</td>\n",
       "      <td>0.274823</td>\n",
       "      <td>0.343664</td>\n",
       "    </tr>\n",
       "    <tr>\n",
       "      <th>3</th>\n",
       "      <td>age</td>\n",
       "      <td>chol</td>\n",
       "      <td>CorrelationSimilarity</td>\n",
       "      <td>0.963929</td>\n",
       "      <td>0.222064</td>\n",
       "      <td>0.149923</td>\n",
       "    </tr>\n",
       "    <tr>\n",
       "      <th>4</th>\n",
       "      <td>age</td>\n",
       "      <td>fbs</td>\n",
       "      <td>ContingencySimilarity</td>\n",
       "      <td>0.748950</td>\n",
       "      <td>NaN</td>\n",
       "      <td>NaN</td>\n",
       "    </tr>\n",
       "    <tr>\n",
       "      <th>...</th>\n",
       "      <td>...</td>\n",
       "      <td>...</td>\n",
       "      <td>...</td>\n",
       "      <td>...</td>\n",
       "      <td>...</td>\n",
       "      <td>...</td>\n",
       "    </tr>\n",
       "    <tr>\n",
       "      <th>86</th>\n",
       "      <td>slope</td>\n",
       "      <td>thal</td>\n",
       "      <td>ContingencySimilarity</td>\n",
       "      <td>0.842366</td>\n",
       "      <td>NaN</td>\n",
       "      <td>NaN</td>\n",
       "    </tr>\n",
       "    <tr>\n",
       "      <th>87</th>\n",
       "      <td>slope</td>\n",
       "      <td>num</td>\n",
       "      <td>ContingencySimilarity</td>\n",
       "      <td>0.805311</td>\n",
       "      <td>NaN</td>\n",
       "      <td>NaN</td>\n",
       "    </tr>\n",
       "    <tr>\n",
       "      <th>88</th>\n",
       "      <td>ca</td>\n",
       "      <td>thal</td>\n",
       "      <td>CorrelationSimilarity</td>\n",
       "      <td>0.993411</td>\n",
       "      <td>0.252037</td>\n",
       "      <td>0.265215</td>\n",
       "    </tr>\n",
       "    <tr>\n",
       "      <th>89</th>\n",
       "      <td>ca</td>\n",
       "      <td>num</td>\n",
       "      <td>ContingencySimilarity</td>\n",
       "      <td>0.812627</td>\n",
       "      <td>NaN</td>\n",
       "      <td>NaN</td>\n",
       "    </tr>\n",
       "    <tr>\n",
       "      <th>90</th>\n",
       "      <td>thal</td>\n",
       "      <td>num</td>\n",
       "      <td>ContingencySimilarity</td>\n",
       "      <td>0.875559</td>\n",
       "      <td>NaN</td>\n",
       "      <td>NaN</td>\n",
       "    </tr>\n",
       "  </tbody>\n",
       "</table>\n",
       "<p>91 rows × 6 columns</p>\n",
       "</div>"
      ],
      "text/plain": [
       "   Column 1  Column 2                 Metric     Score  Real Correlation  \\\n",
       "0       age       sex  ContingencySimilarity  0.674976               NaN   \n",
       "1       age        cp  ContingencySimilarity  0.707763               NaN   \n",
       "2       age  trestbps  CorrelationSimilarity  0.965579          0.274823   \n",
       "3       age      chol  CorrelationSimilarity  0.963929          0.222064   \n",
       "4       age       fbs  ContingencySimilarity  0.748950               NaN   \n",
       "..      ...       ...                    ...       ...               ...   \n",
       "86    slope      thal  ContingencySimilarity  0.842366               NaN   \n",
       "87    slope       num  ContingencySimilarity  0.805311               NaN   \n",
       "88       ca      thal  CorrelationSimilarity  0.993411          0.252037   \n",
       "89       ca       num  ContingencySimilarity  0.812627               NaN   \n",
       "90     thal       num  ContingencySimilarity  0.875559               NaN   \n",
       "\n",
       "    Synthetic Correlation  \n",
       "0                     NaN  \n",
       "1                     NaN  \n",
       "2                0.343664  \n",
       "3                0.149923  \n",
       "4                     NaN  \n",
       "..                    ...  \n",
       "86                    NaN  \n",
       "87                    NaN  \n",
       "88               0.265215  \n",
       "89                    NaN  \n",
       "90                    NaN  \n",
       "\n",
       "[91 rows x 6 columns]"
      ]
     },
     "execution_count": 10,
     "metadata": {},
     "output_type": "execute_result"
    }
   ],
   "source": [
    "normal_quality_report.get_details(property_name='Column Pair Trends')"
   ]
  },
  {
   "cell_type": "markdown",
   "id": "0fdf87fa",
   "metadata": {},
   "source": [
    "Mikäli tämä testi hylätään epäonnistuneena, voidaan referenssitasoksi parittaisissa korrelaatioissa laskea n. 80%\n",
    "\n",
    "Sama testi kaikille synteettisille dataseteille:"
   ]
  },
  {
   "cell_type": "code",
   "execution_count": 11,
   "id": "23cdedbb",
   "metadata": {},
   "outputs": [
    {
     "name": "stdout",
     "output_type": "stream",
     "text": [
      "Generating report ...\n",
      "\n",
      "(1/2) Evaluating Column Shapes: |██████████| 14/14 [00:00<00:00, 1213.76it/s]|\n",
      "Column Shapes Score: 67.04%\n",
      "\n",
      "(2/2) Evaluating Column Pair Trends: |          | 0/91 [00:00<?, ?it/s]|"
     ]
    },
    {
     "name": "stdout",
     "output_type": "stream",
     "text": [
      "(2/2) Evaluating Column Pair Trends: |██████████| 91/91 [00:00<00:00, 167.41it/s]|\n",
      "Column Pair Trends Score: 59.21%\n",
      "\n",
      "Overall Score (Average): 63.13%\n",
      "\n",
      "Generating report ...\n",
      "\n",
      "(1/2) Evaluating Column Shapes: |██████████| 14/14 [00:00<00:00, 1417.92it/s]|\n",
      "Column Shapes Score: 67.34%\n",
      "\n",
      "(2/2) Evaluating Column Pair Trends: |██████████| 91/91 [00:00<00:00, 186.41it/s]|\n",
      "Column Pair Trends Score: 59.98%\n",
      "\n",
      "Overall Score (Average): 63.66%\n",
      "\n",
      "Generating report ...\n",
      "\n",
      "(1/2) Evaluating Column Shapes: |██████████| 14/14 [00:00<00:00, 1348.12it/s]|\n",
      "Column Shapes Score: 66.76%\n",
      "\n",
      "(2/2) Evaluating Column Pair Trends: |██████████| 91/91 [00:00<00:00, 183.10it/s]|\n",
      "Column Pair Trends Score: 58.41%\n",
      "\n",
      "Overall Score (Average): 62.58%\n",
      "\n",
      "Generating report ...\n",
      "\n",
      "(1/2) Evaluating Column Shapes: |██████████| 14/14 [00:00<00:00, 1269.46it/s]|\n",
      "Column Shapes Score: 68.35%\n",
      "\n",
      "(2/2) Evaluating Column Pair Trends: |██████████| 91/91 [00:00<00:00, 183.00it/s]|\n",
      "Column Pair Trends Score: 59.51%\n",
      "\n",
      "Overall Score (Average): 63.93%\n",
      "\n",
      "Generating report ...\n",
      "\n",
      "(1/2) Evaluating Column Shapes: |██████████| 14/14 [00:00<00:00, 1462.41it/s]|\n",
      "Column Shapes Score: 68.76%\n",
      "\n",
      "(2/2) Evaluating Column Pair Trends: |██████████| 91/91 [00:00<00:00, 185.43it/s]|\n",
      "Column Pair Trends Score: 59.17%\n",
      "\n",
      "Overall Score (Average): 63.97%\n",
      "\n"
     ]
    }
   ],
   "source": [
    "\n",
    "for i, syn_profile in enumerate(synth_bayes_data_list):\n",
    "\n",
    "    qr = evaluate_quality(training_data_list[i], syn_profile)"
   ]
  },
  {
   "cell_type": "code",
   "execution_count": 12,
   "id": "23580577",
   "metadata": {},
   "outputs": [
    {
     "name": "stdout",
     "output_type": "stream",
     "text": [
      "Generating report ...\n",
      "\n",
      "(1/2) Evaluating Column Shapes: |██████████| 14/14 [00:00<00:00, 1617.64it/s]|\n",
      "Column Shapes Score: 94.63%\n",
      "\n",
      "(2/2) Evaluating Column Pair Trends: |██████████| 91/91 [00:00<00:00, 182.21it/s]|\n",
      "Column Pair Trends Score: 86.72%\n",
      "\n",
      "Overall Score (Average): 90.67%\n",
      "\n",
      "Generating report ...\n",
      "\n",
      "(1/2) Evaluating Column Shapes: |██████████| 14/14 [00:00<00:00, 1847.30it/s]|\n",
      "Column Shapes Score: 93.72%\n",
      "\n",
      "(2/2) Evaluating Column Pair Trends: |██████████| 91/91 [00:00<00:00, 182.15it/s]|\n",
      "Column Pair Trends Score: 88.9%\n",
      "\n",
      "Overall Score (Average): 91.31%\n",
      "\n",
      "Generating report ...\n",
      "\n",
      "(1/2) Evaluating Column Shapes: |██████████| 14/14 [00:00<00:00, 2033.67it/s]|\n",
      "Column Shapes Score: 94.83%\n",
      "\n",
      "(2/2) Evaluating Column Pair Trends: |██████████| 91/91 [00:00<00:00, 183.71it/s]|\n",
      "Column Pair Trends Score: 83.62%\n",
      "\n",
      "Overall Score (Average): 89.22%\n",
      "\n",
      "Generating report ...\n",
      "\n",
      "(1/2) Evaluating Column Shapes: |██████████| 14/14 [00:00<00:00, 1564.87it/s]|\n",
      "Column Shapes Score: 93.53%\n",
      "\n",
      "(2/2) Evaluating Column Pair Trends: |██████████| 91/91 [00:00<00:00, 183.00it/s]|\n",
      "Column Pair Trends Score: 85.69%\n",
      "\n",
      "Overall Score (Average): 89.61%\n",
      "\n",
      "Generating report ...\n",
      "\n",
      "(1/2) Evaluating Column Shapes: |██████████| 14/14 [00:00<00:00, 1999.12it/s]|\n",
      "Column Shapes Score: 94.15%\n",
      "\n",
      "(2/2) Evaluating Column Pair Trends: |██████████| 91/91 [00:00<00:00, 186.00it/s]|\n",
      "Column Pair Trends Score: 85.97%\n",
      "\n",
      "Overall Score (Average): 90.06%\n",
      "\n"
     ]
    }
   ],
   "source": [
    "for i, syn_profile in enumerate(synth_tvae_data_list):\n",
    "\n",
    "    qr = evaluate_quality(training_data_list[i], syn_profile)"
   ]
  },
  {
   "cell_type": "code",
   "execution_count": 13,
   "id": "3ea287bd",
   "metadata": {},
   "outputs": [
    {
     "name": "stdout",
     "output_type": "stream",
     "text": [
      "Generating report ...\n",
      "\n",
      "(1/2) Evaluating Column Shapes: |██████████| 14/14 [00:00<00:00, 1657.17it/s]|\n",
      "Column Shapes Score: 85.44%\n",
      "\n",
      "(2/2) Evaluating Column Pair Trends: |██████████| 91/91 [00:00<00:00, 184.17it/s]|\n",
      "Column Pair Trends Score: 80.25%\n",
      "\n",
      "Overall Score (Average): 82.84%\n",
      "\n",
      "Generating report ...\n",
      "\n",
      "(1/2) Evaluating Column Shapes: |██████████| 14/14 [00:00<00:00, 1781.45it/s]|\n",
      "Column Shapes Score: 88.47%\n",
      "\n",
      "(2/2) Evaluating Column Pair Trends: |██████████| 91/91 [00:00<00:00, 183.83it/s]|\n",
      "Column Pair Trends Score: 81.73%\n",
      "\n",
      "Overall Score (Average): 85.1%\n",
      "\n",
      "Generating report ...\n",
      "\n",
      "(1/2) Evaluating Column Shapes: |██████████| 14/14 [00:00<00:00, 1648.06it/s]|\n",
      "Column Shapes Score: 88.69%\n",
      "\n",
      "(2/2) Evaluating Column Pair Trends: |██████████| 91/91 [00:00<00:00, 183.10it/s]|\n",
      "Column Pair Trends Score: 83.87%\n",
      "\n",
      "Overall Score (Average): 86.28%\n",
      "\n",
      "Generating report ...\n",
      "\n",
      "(1/2) Evaluating Column Shapes: |██████████| 14/14 [00:00<00:00, 1601.67it/s]|\n",
      "Column Shapes Score: 87.61%\n",
      "\n",
      "(2/2) Evaluating Column Pair Trends: |██████████| 91/91 [00:00<00:00, 186.59it/s]|\n",
      "Column Pair Trends Score: 80.31%\n",
      "\n",
      "Overall Score (Average): 83.96%\n",
      "\n",
      "Generating report ...\n",
      "\n",
      "(1/2) Evaluating Column Shapes: |██████████| 14/14 [00:00<00:00, 1797.60it/s]|\n",
      "Column Shapes Score: 89.87%\n",
      "\n",
      "(2/2) Evaluating Column Pair Trends: |██████████| 91/91 [00:00<00:00, 185.40it/s]|\n",
      "Column Pair Trends Score: 82.42%\n",
      "\n",
      "Overall Score (Average): 86.14%\n",
      "\n"
     ]
    }
   ],
   "source": [
    "for i, syn_profile in enumerate(synth_ctgan_data_list):\n",
    "\n",
    "    qr = evaluate_quality(training_data_list[i], syn_profile)"
   ]
  },
  {
   "cell_type": "code",
   "execution_count": 14,
   "id": "00a82d42",
   "metadata": {},
   "outputs": [
    {
     "name": "stdout",
     "output_type": "stream",
     "text": [
      "Generating report ...\n",
      "\n",
      "(1/2) Evaluating Column Shapes: |██████████| 14/14 [00:00<00:00, 1365.33it/s]|\n",
      "Column Shapes Score: 89.58%\n",
      "\n",
      "(2/2) Evaluating Column Pair Trends: |██████████| 91/91 [00:00<00:00, 181.28it/s]|\n",
      "Column Pair Trends Score: 82.08%\n",
      "\n",
      "Overall Score (Average): 85.83%\n",
      "\n",
      "Generating report ...\n",
      "\n",
      "(1/2) Evaluating Column Shapes: |██████████| 14/14 [00:00<00:00, 1681.76it/s]|\n",
      "Column Shapes Score: 89.85%\n",
      "\n",
      "(2/2) Evaluating Column Pair Trends: |██████████| 91/91 [00:00<00:00, 173.76it/s]|\n",
      "Column Pair Trends Score: 81.97%\n",
      "\n",
      "Overall Score (Average): 85.91%\n",
      "\n",
      "Generating report ...\n",
      "\n",
      "(1/2) Evaluating Column Shapes: |██████████| 14/14 [00:00<00:00, 1857.06it/s]|\n",
      "Column Shapes Score: 89.49%\n",
      "\n",
      "(2/2) Evaluating Column Pair Trends: |██████████| 91/91 [00:00<00:00, 176.91it/s]|\n",
      "Column Pair Trends Score: 81.55%\n",
      "\n",
      "Overall Score (Average): 85.52%\n",
      "\n",
      "Generating report ...\n",
      "\n",
      "(1/2) Evaluating Column Shapes: |██████████| 14/14 [00:00<00:00, 1668.38it/s]|\n",
      "Column Shapes Score: 89.41%\n",
      "\n",
      "(2/2) Evaluating Column Pair Trends: |██████████| 91/91 [00:00<00:00, 174.54it/s]|\n",
      "Column Pair Trends Score: 82.47%\n",
      "\n",
      "Overall Score (Average): 85.94%\n",
      "\n",
      "Generating report ...\n",
      "\n",
      "(1/2) Evaluating Column Shapes: |██████████| 14/14 [00:00<00:00, 1681.28it/s]|\n",
      "Column Shapes Score: 89.87%\n",
      "\n",
      "(2/2) Evaluating Column Pair Trends: |██████████| 91/91 [00:00<00:00, 177.00it/s]|\n",
      "Column Pair Trends Score: 82.42%\n",
      "\n",
      "Overall Score (Average): 86.14%\n",
      "\n"
     ]
    }
   ],
   "source": [
    "for i, syn_profile in enumerate(synth_gcopula_data_list):\n",
    "\n",
    "    qr = evaluate_quality(training_data_list[i], syn_profile)"
   ]
  },
  {
   "cell_type": "code",
   "execution_count": null,
   "id": "9dbe778b",
   "metadata": {},
   "outputs": [
    {
     "name": "stdout",
     "output_type": "stream",
     "text": [
      "Generating report ...\n",
      "\n",
      "(1/2) Evaluating Column Shapes: |██████████| 14/14 [00:00<00:00, 1174.33it/s]|\n",
      "Column Shapes Score: 93.58%\n",
      "\n",
      "(2/2) Evaluating Column Pair Trends: |██████████| 91/91 [00:00<00:00, 179.59it/s]|\n",
      "Column Pair Trends Score: 88.93%\n",
      "\n",
      "Overall Score (Average): 91.26%\n",
      "\n",
      "Generating report ...\n",
      "\n",
      "(1/2) Evaluating Column Shapes: |██████████| 14/14 [00:00<00:00, 1593.58it/s]|\n",
      "Column Shapes Score: 91.09%\n",
      "\n",
      "(2/2) Evaluating Column Pair Trends: |██████████| 91/91 [00:00<00:00, 184.05it/s]|\n",
      "Column Pair Trends Score: 86.46%\n",
      "\n",
      "Overall Score (Average): 88.77%\n",
      "\n",
      "Generating report ...\n",
      "\n",
      "(1/2) Evaluating Column Shapes: |██████████| 14/14 [00:00<00:00, 1999.60it/s]|\n",
      "Column Shapes Score: 92.12%\n",
      "\n",
      "(2/2) Evaluating Column Pair Trends: |██████████| 91/91 [00:00<00:00, 183.74it/s]|\n",
      "Column Pair Trends Score: 88.15%\n",
      "\n",
      "Overall Score (Average): 90.14%\n",
      "\n",
      "Generating report ...\n",
      "\n",
      "(1/2) Evaluating Column Shapes: |██████████| 14/14 [00:00<00:00, 1665.82it/s]|\n",
      "Column Shapes Score: 90.63%\n",
      "\n",
      "(2/2) Evaluating Column Pair Trends: |██████████| 91/91 [00:00<00:00, 182.47it/s]|\n",
      "Column Pair Trends Score: 86.52%\n",
      "\n",
      "Overall Score (Average): 88.57%\n",
      "\n",
      "Generating report ...\n",
      "\n",
      "(1/2) Evaluating Column Shapes: |██████████| 14/14 [00:00<00:00, 1839.26it/s]|\n",
      "Column Shapes Score: 90.93%\n",
      "\n",
      "(2/2) Evaluating Column Pair Trends: |██████████| 91/91 [00:00<00:00, 184.48it/s]|\n",
      "Column Pair Trends Score: 86.39%\n",
      "\n",
      "Overall Score (Average): 88.66%\n",
      "\n"
     ]
    }
   ],
   "source": [
    "for i, syn_profile in enumerate(synth_tvae_data_list):\n",
    "\n",
    "    qr = evaluate_quality(training_data_list[i], syn_profile)"
   ]
  },
  {
   "cell_type": "code",
   "execution_count": 16,
   "id": "48368ac4",
   "metadata": {},
   "outputs": [
    {
     "name": "stdout",
     "output_type": "stream",
     "text": [
      "Generating report ...\n",
      "\n",
      "(1/2) Evaluating Column Shapes: |██████████| 14/14 [00:00<00:00, 1028.09it/s]|\n",
      "Column Shapes Score: 58.87%\n",
      "\n",
      "(2/2) Evaluating Column Pair Trends: |██████████| 91/91 [00:00<00:00, 177.41it/s]|\n",
      "Column Pair Trends Score: 51.14%\n",
      "\n",
      "Overall Score (Average): 55.01%\n",
      "\n",
      "Generating report ...\n",
      "\n",
      "(1/2) Evaluating Column Shapes: |██████████| 14/14 [00:00<00:00, 1261.85it/s]|\n",
      "Column Shapes Score: 70.05%\n",
      "\n",
      "(2/2) Evaluating Column Pair Trends: |██████████| 91/91 [00:00<00:00, 179.48it/s]|\n",
      "Column Pair Trends Score: 55.54%\n",
      "\n",
      "Overall Score (Average): 62.79%\n",
      "\n",
      "Generating report ...\n",
      "\n",
      "(1/2) Evaluating Column Shapes: |██████████| 14/14 [00:00<00:00, 1324.95it/s]|\n",
      "Column Shapes Score: 72.44%\n",
      "\n",
      "(2/2) Evaluating Column Pair Trends: |██████████| 91/91 [00:00<00:00, 167.75it/s]|\n",
      "Column Pair Trends Score: 50.3%\n",
      "\n",
      "Overall Score (Average): 61.37%\n",
      "\n",
      "Generating report ...\n",
      "\n",
      "(1/2) Evaluating Column Shapes: |██████████| 14/14 [00:00<00:00, 1288.60it/s]|\n",
      "Column Shapes Score: 61.73%\n",
      "\n",
      "(2/2) Evaluating Column Pair Trends: |██████████| 91/91 [00:00<00:00, 185.27it/s]|\n",
      "Column Pair Trends Score: 50.66%\n",
      "\n",
      "Overall Score (Average): 56.2%\n",
      "\n",
      "Generating report ...\n",
      "\n",
      "(1/2) Evaluating Column Shapes: |██████████| 14/14 [00:00<00:00, 1496.40it/s]|\n",
      "Column Shapes Score: 74.28%\n",
      "\n",
      "(2/2) Evaluating Column Pair Trends: |██████████| 91/91 [00:00<00:00, 179.44it/s]|\n",
      "Column Pair Trends Score: 56.23%\n",
      "\n",
      "Overall Score (Average): 65.26%\n",
      "\n"
     ]
    }
   ],
   "source": [
    "for i, syn_profile in enumerate(synth_diffusion_data_list):\n",
    "\n",
    "    qr = evaluate_quality(training_data_list[i], syn_profile)"
   ]
  },
  {
   "cell_type": "markdown",
   "id": "f5e2e205",
   "metadata": {},
   "source": [
    "Menetelmien välillä on huomattavia eroja. Tämä ei kuitenkaan tarkoita että osa malleista olisi täysin käyttökelvottomia: Vaikka diffuusiomalli epäonnistuikin tämän datasetin syntetisoinnissa, ne ovat useiden kuvageneraattoreiden pohjamalli. Tähän voi vaikuttaa datan määrä ja luonne, eli esimerkiksi kuinka suuri osa muuttujista on diskreettejä.\n",
    "\n",
    "Osa synteettisistä aineistoista tuotti suuremmat pisteet kuin referenssi testiaineistolla. Tämä voi olla merkki ylisovittumisesta, mutta ei ole lähtökohtaisesti yhtä huono kuin alhaiset pisteet."
   ]
  },
  {
   "cell_type": "markdown",
   "id": "84ad1f83",
   "metadata": {},
   "source": [
    "SDMetrics tarjoaa myös helppoja visualisointikeinoja:"
   ]
  },
  {
   "cell_type": "code",
   "execution_count": 17,
   "id": "79e69187",
   "metadata": {},
   "outputs": [
    {
     "data": {
      "text/html": [
       "<iframe\n",
       "    scrolling=\"no\"\n",
       "    width=\"100%\"\n",
       "    height=\"545px\"\n",
       "    src=\"iframe_figures/figure_17.html\"\n",
       "    frameborder=\"0\"\n",
       "    allowfullscreen\n",
       "></iframe>\n"
      ]
     },
     "metadata": {},
     "output_type": "display_data"
    }
   ],
   "source": [
    "from sdmetrics.visualization import get_column_plot\n",
    "\n",
    "fig = get_column_plot(\n",
    "    real_data=training_data_list[0],\n",
    "    synthetic_data=test_data_list[0],\n",
    "    column_name='age',\n",
    "    plot_type='distplot'\n",
    ")\n",
    "\n",
    "fig.show()"
   ]
  },
  {
   "cell_type": "code",
   "execution_count": 18,
   "id": "c284102c",
   "metadata": {},
   "outputs": [
    {
     "data": {
      "text/html": [
       "<iframe\n",
       "    scrolling=\"no\"\n",
       "    width=\"100%\"\n",
       "    height=\"545px\"\n",
       "    src=\"iframe_figures/figure_18.html\"\n",
       "    frameborder=\"0\"\n",
       "    allowfullscreen\n",
       "></iframe>\n"
      ]
     },
     "metadata": {},
     "output_type": "display_data"
    }
   ],
   "source": [
    "from sdmetrics.visualization import get_column_pair_plot\n",
    "\n",
    "fig = get_column_pair_plot(\n",
    "    real_data=training_data_list[0],\n",
    "    synthetic_data=test_data_list[0],\n",
    "    column_names=['age', 'thalach'],\n",
    "    plot_type='scatter'\n",
    "    \n",
    ")\n",
    "\n",
    "fig.show()"
   ]
  },
  {
   "cell_type": "markdown",
   "id": "b1ee1781",
   "metadata": {},
   "source": [
    "## Utility\n",
    "\n",
    "Synteettisen datan laatua voidaan estimoida myös sovittamalla erilaisia malleja aidolla ja synteettisellä datalla, ja vertailemalla niiden suorituskykyä.\n",
    "\n",
    "GradBoost', 'RandForest', 'SVM', 'NearNeigh', 'DecTree', 'MLP', 'Regress'\n"
   ]
  },
  {
   "cell_type": "code",
   "execution_count": 34,
   "id": "1bcb53fd",
   "metadata": {},
   "outputs": [],
   "source": [
    "import utils\n",
    "\n"
   ]
  },
  {
   "cell_type": "code",
   "execution_count": 24,
   "id": "efe5c6f4",
   "metadata": {},
   "outputs": [
    {
     "data": {
      "text/plain": [
       "0.9503695178965224"
      ]
     },
     "execution_count": 24,
     "metadata": {},
     "output_type": "execute_result"
    }
   ],
   "source": [
    "utils.calc_corr_score(\n",
    "    training_data_list[0],\n",
    "    test_data_list[0])\n"
   ]
  },
  {
   "cell_type": "code",
   "execution_count": 25,
   "id": "cafc61e2",
   "metadata": {},
   "outputs": [
    {
     "data": {
      "text/plain": [
       "0.9149553873845975"
      ]
     },
     "execution_count": 25,
     "metadata": {},
     "output_type": "execute_result"
    }
   ],
   "source": [
    "utils.ks_score(\n",
    "    training_data_list[0],\n",
    "    test_data_list[0])"
   ]
  },
  {
   "cell_type": "code",
   "execution_count": null,
   "id": "4e286b5b",
   "metadata": {},
   "outputs": [
    {
     "data": {
      "text/plain": [
       "(0.9149553873845975, 0.9503695178965224)"
      ]
     },
     "execution_count": 26,
     "metadata": {},
     "output_type": "execute_result"
    },
    {
     "data": {
      "image/png": "[encoded data removed]",
      "text/plain": [
       "<Figure size 640x480 with 1 Axes>"
      ]
     },
     "metadata": {},
     "output_type": "display_data"
    }
   ],
   "source": [
    "\n",
    "utils.visualize_and_test(training_data_list[0],test_data_list[0], 'age', 'thalach')\n"
   ]
  },
  {
   "cell_type": "markdown",
   "id": "d42e0855",
   "metadata": {},
   "source": [
    "Sovitetaan mallit kolmelle eri synteettiselle datalle"
   ]
  },
  {
   "cell_type": "code",
   "execution_count": 76,
   "id": "bddca948",
   "metadata": {},
   "outputs": [],
   "source": [
    "from val_utils  import utility_test\n",
    "num_metrics_list, categorical_metrics_list = [], []\n",
    "\n",
    "for i in range(5):\n",
    "    num_metrics, categorical_metrics = utility_test(synth_nflow_data_list[i],training_data_list[i], test_data_list[i])  \n",
    "    num_metrics_list.append(num_metrics)\n",
    "    categorical_metrics_list.append(categorical_metrics)\n",
    "\n",
    "numerical_multiarray_nflow = pd.concat(num_metrics_list, keys=range(0,5))\n",
    "categorical_multiarray_nflow = pd.concat(categorical_metrics_list, keys=range(0,5))"
   ]
  },
  {
   "cell_type": "code",
   "execution_count": 77,
   "id": "7dbc009f",
   "metadata": {},
   "outputs": [],
   "source": [
    "num_metrics_list, categorical_metrics_list = [], []\n",
    "\n",
    "for i in range(5):\n",
    "    num_metrics, categorical_metrics = utility_test(synth_tvae_data_list[i],training_data_list[i], test_data_list[i])  \n",
    "    num_metrics_list.append(num_metrics)\n",
    "    categorical_metrics_list.append(categorical_metrics)\n",
    "\n",
    "numerical_multiarray_tvae = pd.concat(num_metrics_list, keys=range(0,5))\n",
    "categorical_multiarray_tvae = pd.concat(categorical_metrics_list, keys=range(0,5))"
   ]
  },
  {
   "cell_type": "code",
   "execution_count": 78,
   "id": "eac94d97",
   "metadata": {},
   "outputs": [],
   "source": [
    "num_metrics_list, categorical_metrics_list = [], []\n",
    "\n",
    "for i in range(5):\n",
    "    num_metrics, categorical_metrics = utility_test(synth_diffusion_data_list[i],training_data_list[i], test_data_list[i])  \n",
    "    num_metrics_list.append(num_metrics)\n",
    "    categorical_metrics_list.append(categorical_metrics)\n",
    "\n",
    "numerical_multiarray_diffusion = pd.concat(num_metrics_list, keys=range(0,5))\n",
    "categorical_multiarray_diffusion = pd.concat(categorical_metrics_list, keys=range(0,5))"
   ]
  },
  {
   "cell_type": "markdown",
   "id": "f5833317",
   "metadata": {},
   "source": [
    "Piirretään näistä Gradient Boosting -mallista kuviot:"
   ]
  },
  {
   "cell_type": "code",
   "execution_count": 79,
   "id": "18f88b67",
   "metadata": {},
   "outputs": [
    {
     "data": {
      "image/png": "[encoded data removed]",
      "text/plain": [
       "<Figure size 1000x800 with 1 Axes>"
      ]
     },
     "metadata": {},
     "output_type": "display_data"
    }
   ],
   "source": [
    "columns = numerical_multiarray_nflow.loc[:,'MSE_tstr', 'GradBoost'].columns.to_numpy()\n",
    "gb_MSE_tstr = pd.DataFrame(np.mean(numerical_multiarray_nflow.loc[:,'MSE_tstr', 'GradBoost'],axis=0))\n",
    "gb_MSE_trtr = pd.DataFrame(np.mean(numerical_multiarray_nflow.loc[:,'MSE_trtr', 'GradBoost'],axis=0))\n",
    "gb_MSE_tstr_std = pd.DataFrame(np.std(numerical_multiarray_nflow.loc[:,'MSE_tstr', 'GradBoost'],axis=0))\n",
    "gb_MSE_trtr_std = pd.DataFrame(np.std(numerical_multiarray_nflow.loc[:,'MSE_trtr', 'GradBoost'],axis=0))\n",
    "\n",
    "reg_MSE_tstr = pd.DataFrame(np.mean(numerical_multiarray_nflow.loc[:,'MSE_tstr', 'Regress'],axis=0))\n",
    "reg_MSE_trtr = pd.DataFrame(np.mean(numerical_multiarray_nflow.loc[:,'MSE_trtr', 'Regress'],axis=0))\n",
    "reg_MSE_tstr_std = pd.DataFrame(np.std(numerical_multiarray_nflow.loc[:,'MSE_tstr', 'Regress'],axis=0))\n",
    "reg_MSE_trtr_std = pd.DataFrame(np.std(numerical_multiarray_nflow.loc[:,'MSE_trtr', 'Regress'],axis=0))\n",
    "\n",
    "cmap = plt.get_cmap(\"tab10\")\n",
    "fig = plt.figure(figsize=(10,8))\n",
    "\n",
    "columns_significance = [x + ' (*)' if stats.ttest_ind(numerical_multiarray_nflow.loc[:,'MSE_tstr', 'GradBoost'][x],numerical_multiarray_nflow.loc[:,'MSE_trtr', 'GradBoost'][x], equal_var=False).pvalue<(0.05) else x + '    '   for x in columns]\n",
    "\n",
    "# plt.scatter(pd.DataFrame(np.mean(numerical_multiarray.loc[:,'RMSE_tstr', 'GradBoost'],axis=0)),measure_2_columns,)\n",
    "sorted_mean_tstr, sorted_mean_trtr, sorted_std_tstr, sorted_std_trtr,columns_significance = (list(x) for x in zip(*sorted(zip(np.squeeze(gb_MSE_tstr.to_numpy()), np.squeeze(gb_MSE_trtr.to_numpy()), np.squeeze(gb_MSE_tstr_std.to_numpy()), np.squeeze(gb_MSE_trtr_std.to_numpy()),columns_significance))))\n",
    "plt.errorbar(sorted_mean_tstr,y=columns_significance,  xerr=sorted_std_tstr, fmt='o',alpha=0.8, label ='Synthetic')\n",
    "plt.errorbar(sorted_mean_trtr,y=columns_significance,  xerr=sorted_std_trtr, fmt='o',alpha=0.8, label ='Real')\n",
    "\n",
    "\n",
    "plt.scatter(pd.DataFrame(np.array(sorted_mean_tstr) +np.array(sorted_std_tstr)),\n",
    "            columns_significance,marker='|',color=cmap(0),alpha=0.8)\n",
    "plt.scatter(pd.DataFrame(np.array(sorted_mean_tstr) -np.array(sorted_std_tstr)),\n",
    "            columns_significance,marker='|',color=cmap(0),alpha=0.8)\n",
    "\n",
    "plt.scatter(pd.DataFrame(np.array(sorted_mean_trtr) +np.array(sorted_std_trtr)),\n",
    "            columns_significance,marker='|',color=cmap(1),alpha=0.8)\n",
    "plt.scatter(pd.DataFrame(np.array(sorted_mean_trtr) -np.array(sorted_std_trtr)),\n",
    "            columns_significance,marker='|',color=cmap(1),alpha=0.8)\n",
    "\n",
    "plt.legend()\n",
    "plt.xlabel('MSE')\n",
    "\n",
    "plt.show()"
   ]
  },
  {
   "cell_type": "code",
   "execution_count": 80,
   "id": "42d26600",
   "metadata": {},
   "outputs": [
    {
     "data": {
      "image/png": "[encoded data removed]",
      "text/plain": [
       "<Figure size 1000x800 with 1 Axes>"
      ]
     },
     "metadata": {},
     "output_type": "display_data"
    }
   ],
   "source": [
    "columns = numerical_multiarray_tvae.loc[:,'MSE_tstr', 'GradBoost'].columns.to_numpy()\n",
    "gb_MSE_tstr = pd.DataFrame(np.mean(numerical_multiarray_tvae.loc[:,'MSE_tstr', 'GradBoost'],axis=0))\n",
    "gb_MSE_trtr = pd.DataFrame(np.mean(numerical_multiarray_tvae.loc[:,'MSE_trtr', 'GradBoost'],axis=0))\n",
    "gb_MSE_tstr_std = pd.DataFrame(np.std(numerical_multiarray_tvae.loc[:,'MSE_tstr', 'GradBoost'],axis=0))\n",
    "gb_MSE_trtr_std = pd.DataFrame(np.std(numerical_multiarray_tvae.loc[:,'MSE_trtr', 'GradBoost'],axis=0))\n",
    "\n",
    "reg_MSE_tstr = pd.DataFrame(np.mean(numerical_multiarray_tvae.loc[:,'MSE_tstr', 'Regress'],axis=0))\n",
    "reg_MSE_trtr = pd.DataFrame(np.mean(numerical_multiarray_tvae.loc[:,'MSE_trtr', 'Regress'],axis=0))\n",
    "reg_MSE_tstr_std = pd.DataFrame(np.std(numerical_multiarray_tvae.loc[:,'MSE_tstr', 'Regress'],axis=0))\n",
    "reg_MSE_trtr_std = pd.DataFrame(np.std(numerical_multiarray_tvae.loc[:,'MSE_trtr', 'Regress'],axis=0))\n",
    "\n",
    "cmap = plt.get_cmap(\"tab10\")\n",
    "fig = plt.figure(figsize=(10,8))\n",
    "\n",
    "columns_significance = [x + ' (*)' if stats.ttest_ind(numerical_multiarray_tvae.loc[:,'MSE_tstr', 'GradBoost'][x],numerical_multiarray_tvae.loc[:,'MSE_trtr', 'GradBoost'][x], equal_var=False).pvalue<(0.05) else x + '    '   for x in columns]\n",
    "\n",
    "# plt.scatter(pd.DataFrame(np.mean(numerical_multiarray.loc[:,'RMSE_tstr', 'GradBoost'],axis=0)),measure_2_columns,)\n",
    "sorted_mean_tstr, sorted_mean_trtr, sorted_std_tstr, sorted_std_trtr,columns_significance = (list(x) for x in zip(*sorted(zip(np.squeeze(gb_MSE_tstr.to_numpy()), np.squeeze(gb_MSE_trtr.to_numpy()), np.squeeze(gb_MSE_tstr_std.to_numpy()), np.squeeze(gb_MSE_trtr_std.to_numpy()),columns_significance))))\n",
    "plt.errorbar(sorted_mean_tstr,y=columns_significance,  xerr=sorted_std_tstr, fmt='o',alpha=0.8, label ='Synthetic')\n",
    "plt.errorbar(sorted_mean_trtr,y=columns_significance,  xerr=sorted_std_trtr, fmt='o',alpha=0.8, label ='Real')\n",
    "\n",
    "\n",
    "plt.scatter(pd.DataFrame(np.array(sorted_mean_tstr) +np.array(sorted_std_tstr)),\n",
    "            columns_significance,marker='|',color=cmap(0),alpha=0.8)\n",
    "plt.scatter(pd.DataFrame(np.array(sorted_mean_tstr) -np.array(sorted_std_tstr)),\n",
    "            columns_significance,marker='|',color=cmap(0),alpha=0.8)\n",
    "\n",
    "plt.scatter(pd.DataFrame(np.array(sorted_mean_trtr) +np.array(sorted_std_trtr)),\n",
    "            columns_significance,marker='|',color=cmap(1),alpha=0.8)\n",
    "plt.scatter(pd.DataFrame(np.array(sorted_mean_trtr) -np.array(sorted_std_trtr)),\n",
    "            columns_significance,marker='|',color=cmap(1),alpha=0.8)\n",
    "\n",
    "plt.legend()\n",
    "plt.xlabel('MSE')\n",
    "\n",
    "plt.show()"
   ]
  },
  {
   "cell_type": "code",
   "execution_count": 81,
   "id": "196156a2",
   "metadata": {},
   "outputs": [
    {
     "data": {
      "image/png": "[encoded data removed]",
      "text/plain": [
       "<Figure size 1000x800 with 1 Axes>"
      ]
     },
     "metadata": {},
     "output_type": "display_data"
    }
   ],
   "source": [
    "columns = numerical_multiarray_diffusion.loc[:,'MSE_tstr', 'GradBoost'].columns.to_numpy()\n",
    "gb_MSE_tstr = pd.DataFrame(np.mean(numerical_multiarray_diffusion.loc[:,'MSE_tstr', 'GradBoost'],axis=0))\n",
    "gb_MSE_trtr = pd.DataFrame(np.mean(numerical_multiarray_diffusion.loc[:,'MSE_trtr', 'GradBoost'],axis=0))\n",
    "gb_MSE_tstr_std = pd.DataFrame(np.std(numerical_multiarray_diffusion.loc[:,'MSE_tstr', 'GradBoost'],axis=0))\n",
    "gb_MSE_trtr_std = pd.DataFrame(np.std(numerical_multiarray_diffusion.loc[:,'MSE_trtr', 'GradBoost'],axis=0))\n",
    "\n",
    "reg_MSE_tstr = pd.DataFrame(np.mean(numerical_multiarray_diffusion.loc[:,'MSE_tstr', 'Regress'],axis=0))\n",
    "reg_MSE_trtr = pd.DataFrame(np.mean(numerical_multiarray_diffusion.loc[:,'MSE_trtr', 'Regress'],axis=0))\n",
    "reg_MSE_tstr_std = pd.DataFrame(np.std(numerical_multiarray_diffusion.loc[:,'MSE_tstr', 'Regress'],axis=0))\n",
    "reg_MSE_trtr_std = pd.DataFrame(np.std(numerical_multiarray_diffusion.loc[:,'MSE_trtr', 'Regress'],axis=0))\n",
    "\n",
    "cmap = plt.get_cmap(\"tab10\")\n",
    "fig = plt.figure(figsize=(10,8))\n",
    "\n",
    "columns_significance = [x + ' (*)' if stats.ttest_ind(numerical_multiarray_diffusion.loc[:,'MSE_tstr', 'GradBoost'][x],numerical_multiarray_diffusion.loc[:,'MSE_trtr', 'GradBoost'][x], equal_var=False).pvalue<(0.05) else x + '    '   for x in columns]\n",
    "\n",
    "# plt.scatter(pd.DataFrame(np.mean(numerical_multiarray.loc[:,'RMSE_tstr', 'GradBoost'],axis=0)),measure_2_columns,)\n",
    "sorted_mean_tstr, sorted_mean_trtr, sorted_std_tstr, sorted_std_trtr,columns_significance = (list(x) for x in zip(*sorted(zip(np.squeeze(gb_MSE_tstr.to_numpy()), np.squeeze(gb_MSE_trtr.to_numpy()), np.squeeze(gb_MSE_tstr_std.to_numpy()), np.squeeze(gb_MSE_trtr_std.to_numpy()),columns_significance))))\n",
    "plt.errorbar(sorted_mean_tstr,y=columns_significance,  xerr=sorted_std_tstr, fmt='o',alpha=0.8, label ='Synthetic')\n",
    "plt.errorbar(sorted_mean_trtr,y=columns_significance,  xerr=sorted_std_trtr, fmt='o',alpha=0.8, label ='Real')\n",
    "\n",
    "\n",
    "plt.scatter(pd.DataFrame(np.array(sorted_mean_tstr) +np.array(sorted_std_tstr)),\n",
    "            columns_significance,marker='|',color=cmap(0),alpha=0.8)\n",
    "plt.scatter(pd.DataFrame(np.array(sorted_mean_tstr) -np.array(sorted_std_tstr)),\n",
    "            columns_significance,marker='|',color=cmap(0),alpha=0.8)\n",
    "\n",
    "plt.scatter(pd.DataFrame(np.array(sorted_mean_trtr) +np.array(sorted_std_trtr)),\n",
    "            columns_significance,marker='|',color=cmap(1),alpha=0.8)\n",
    "plt.scatter(pd.DataFrame(np.array(sorted_mean_trtr) -np.array(sorted_std_trtr)),\n",
    "            columns_significance,marker='|',color=cmap(1),alpha=0.8)\n",
    "\n",
    "plt.legend()\n",
    "plt.xlabel('MSE')\n",
    "\n",
    "plt.show()"
   ]
  },
  {
   "cell_type": "code",
   "execution_count": 73,
   "id": "55501775",
   "metadata": {},
   "outputs": [
    {
     "data": {
      "text/plain": [
       "array(['age', 'trestbps', 'chol', 'thalach', 'oldpeak', 'ca', 'thal'],\n",
       "      dtype=object)"
      ]
     },
     "execution_count": 73,
     "metadata": {},
     "output_type": "execute_result"
    }
   ],
   "source": [
    "columns"
   ]
  },
  {
   "cell_type": "markdown",
   "id": "3b122955",
   "metadata": {},
   "source": [
    "VAE vaikuttaa kokonaisuudessaan parhaalta mallilta tälle datalle"
   ]
  },
  {
   "cell_type": "markdown",
   "id": "b5d4e172",
   "metadata": {},
   "source": [
    "## Privacy"
   ]
  },
  {
   "cell_type": "code",
   "execution_count": null,
   "id": "bc197c08",
   "metadata": {},
   "outputs": [],
   "source": [
    "test_mean_2close_ratio_list = []\n",
    "synth_mean_2close_ratio_list = []\n",
    "test_std_2close_ratio_list = []\n",
    "synth_std_2close_ratio_list = []\n",
    "\n",
    "test_max_2close_ratio_list = []\n",
    "synth_max_2close_ratio_list = []\n",
    "test_min_2close_ratio_list = []\n",
    "synth_min_2close_ratio_list = []\n",
    "\n",
    "ratios_test = []\n",
    "ratios_synth = []\n",
    "\n",
    "for i in range(0,10):\n",
    "    scaler_minmax = MinMaxScaler()\n",
    "    real_df_train_scaled = scaler_minmax.fit_transform(real_df_train_list[i].drop('ID', axis=1))\n",
    "    real_df_test_scaled = scaler_minmax.transform(real_df_test_list[i].drop('ID', axis=1))\n",
    "    synth_scaled = scaler_minmax.transform(synthetic_df_cond_list[i])\n",
    "\n",
    "    two_closest_ratio_list_real = []\n",
    "    for test_dude in real_df_test_scaled:\n",
    "        test_dude_distances = []\n",
    "        for real_dude in real_df_train_scaled:\n",
    "            test_dude_distances.append(np.linalg.norm(real_dude-test_dude))\n",
    "        test_dude_distances_sorted = np.sort(np.array(test_dude_distances))\n",
    "        two_closest_ratio_list_real.append(test_dude_distances_sorted[0]/test_dude_distances_sorted[1])\n",
    "\n",
    "    test_mean_2close_ratio_list.append(np.mean(two_closest_ratio_list_real))\n",
    "    test_std_2close_ratio_list.append(np.std(two_closest_ratio_list_real))\n",
    "    test_max_2close_ratio_list.append(np.max(two_closest_ratio_list_real))\n",
    "    test_min_2close_ratio_list.append(np.min(two_closest_ratio_list_real))\n",
    "\n",
    "    ratios_test.append(two_closest_ratio_list_real)\n",
    "\n",
    "    two_closest_ratio_list_synth = []\n",
    "    for synth_dude in synth_scaled:\n",
    "        synth_dude_distances = []\n",
    "        for real_dude in real_df_train_scaled:\n",
    "            synth_dude_distances.append(np.linalg.norm(real_dude-synth_dude))\n",
    "        synth_dude_distances_sorted = np.sort(np.array(synth_dude_distances))\n",
    "        two_closest_ratio_list_synth.append(synth_dude_distances_sorted[0]/synth_dude_distances_sorted[1])\n",
    "\n",
    "    synth_mean_2close_ratio_list.append(np.mean(two_closest_ratio_list_synth))\n",
    "    synth_std_2close_ratio_list.append(np.std(two_closest_ratio_list_synth))\n",
    "    synth_max_2close_ratio_list.append(np.max(two_closest_ratio_list_synth))\n",
    "    synth_min_2close_ratio_list.append(np.min(two_closest_ratio_list_synth))\n",
    "\n",
    "    ratios_synth.append(two_closest_ratio_list_synth)"
   ]
  }
 ],
 "metadata": {
  "kernelspec": {
   "display_name": ".venv (3.10.12)",
   "language": "python",
   "name": "python3"
  },
  "language_info": {
   "codemirror_mode": {
    "name": "ipython",
    "version": 3
   },
   "file_extension": ".py",
   "mimetype": "text/x-python",
   "name": "python",
   "nbconvert_exporter": "python",
   "pygments_lexer": "ipython3",
   "version": "3.10.12"
  }
 },
 "nbformat": 4,
 "nbformat_minor": 5
}
